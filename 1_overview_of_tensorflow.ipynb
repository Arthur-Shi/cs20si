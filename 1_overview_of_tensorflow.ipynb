{
 "cells": [
  {
   "cell_type": "markdown",
   "metadata": {},
   "source": [
    "# Lecture 1: overview of tensorflow\n",
    "\n",
    "**Useful links:** \n",
    "1. [Lecture note](http://web.stanford.edu/class/cs20si/lectures/notes_01.pdf);\n",
    "2. [Leture slides](http://web.stanford.edu/class/cs20si/lectures/slides_01.pdf);\n",
    "3. [A blog: What is a TensorFlow Session?](http://danijar.com/what-is-a-tensorflow-session/);\n",
    "4. [Quora: How does graph creation work in TensorFlow](https://www.quora.com/How-does-graph-creation-work-in-TensorFlow);"
   ]
  },
  {
   "cell_type": "code",
   "execution_count": 1,
   "metadata": {
    "collapsed": true
   },
   "outputs": [],
   "source": [
    "import tensorflow as tf\n",
    "import numpy as np"
   ]
  },
  {
   "cell_type": "markdown",
   "metadata": {},
   "source": [
    "# Part 1"
   ]
  },
  {
   "cell_type": "markdown",
   "metadata": {},
   "source": [
    "## Graphs and Session\n",
    "TensorFlow separates definition of computations from their execution\n",
    "1. definition your computations by assembling a graph\n",
    "2. execute your computations by running a (sub)graph in a session"
   ]
  },
  {
   "cell_type": "markdown",
   "metadata": {},
   "source": [
    "### Tensor\n",
    "Tensor is an n-dimensional matrix\n",
    "1. 0-d tensor: scalar(number)\n",
    "2. 1-d tensor: vector\n",
    "3.  2-d tensor: matrix\n",
    "4. and so no (an rgb image can be 3-d tensor and an rgbd image can be 4-d tensor)"
   ]
  },
  {
   "cell_type": "code",
   "execution_count": 2,
   "metadata": {
    "collapsed": false
   },
   "outputs": [
    {
     "name": "stdout",
     "output_type": "stream",
     "text": [
      "Tensor(\"Add:0\", shape=(), dtype=int32)\n",
      "Add\n"
     ]
    }
   ],
   "source": [
    "a = tf.add(3, 5) # tf.int32 implicitly\n",
    "print(a)\n",
    "print(a.op.name)\n",
    "# Not 8: We just defince a graph. To get the value of a, we nend to create a session and\n",
    "# run the graph in the sesssion"
   ]
  },
  {
   "cell_type": "code",
   "execution_count": 3,
   "metadata": {
    "collapsed": false
   },
   "outputs": [
    {
     "name": "stdout",
     "output_type": "stream",
     "text": [
      "Tensor(\"Add_1:0\", shape=(), dtype=float32)\n"
     ]
    }
   ],
   "source": [
    "b = tf.add(3.0, 5.0) # tf.float32 implicitly\n",
    "print(b)"
   ]
  },
  {
   "cell_type": "code",
   "execution_count": 4,
   "metadata": {
    "collapsed": false
   },
   "outputs": [
    {
     "name": "stdout",
     "output_type": "stream",
     "text": [
      "8\n"
     ]
    },
    {
     "data": {
      "text/plain": [
       "<bound method Session.close of <tensorflow.python.client.session.Session object at 0x7fbc54384050>>"
      ]
     },
     "execution_count": 4,
     "metadata": {},
     "output_type": "execute_result"
    }
   ],
   "source": [
    "sess = tf.Session() # Without arguments the session constructor launches the default graph\n",
    "print(sess.run(a)) # run the graph, now we get the value of a\n",
    "#print(sess.run(b))\n",
    "sess.close()"
   ]
  },
  {
   "cell_type": "code",
   "execution_count": 5,
   "metadata": {
    "collapsed": false
   },
   "outputs": [
    {
     "name": "stdout",
     "output_type": "stream",
     "text": [
      "8\n"
     ]
    }
   ],
   "source": [
    "# use 'with as' statement to make your code neat\n",
    "with tf.Session() as sess:\n",
    "    print(sess.run(a))"
   ]
  },
  {
   "cell_type": "markdown",
   "metadata": {},
   "source": [
    "### running a graph or a subgraph"
   ]
  },
  {
   "cell_type": "code",
   "execution_count": null,
   "metadata": {
    "collapsed": false
   },
   "outputs": [],
   "source": [
    "# defining a graph\n",
    "x = 2\n",
    "y = 3\n",
    "op1 = tf.add(x, y)\n",
    "op2 = tf.mul(x, y)\n",
    "op3 = tf.pow(op2, op1)\n",
    "# tf.mul, tf.sub and tf.neg are replaced by tf.multiply, tf.substract and tf.negative\n",
    "# since my tensorflow version is 1.0.0, it raise a error\n",
    "# you might replace tf.mul by tf.multiply if you are using 1.0.0\n",
    "# to get your version by:\n",
    "# python -c 'import tensorflow as tf; print(tf.__version__)'  # for Python 2\n",
    "# python3 -c 'import tensorflow as tf; print(tf.__version__)'  # for Python 3"
   ]
  },
  {
   "cell_type": "code",
   "execution_count": 6,
   "metadata": {
    "collapsed": false
   },
   "outputs": [
    {
     "name": "stdout",
     "output_type": "stream",
     "text": [
      "[<tf.Operation 'Const' type=Const>, <tf.Operation 'Const_1' type=Const>, <tf.Operation 'Add' type=Add>, <tf.Operation 'Mul' type=Mul>, <tf.Operation 'Pow' type=Pow>]\n",
      "5\n"
     ]
    }
   ],
   "source": [
    "# replace tf.mul by tf.multiply if you are using 1.0.0\n",
    "graph = tf.Graph()\n",
    "with graph.as_default():\n",
    "    x = tf.constant(2) # tf.constant() will build a node\n",
    "    y = tf.constant(3)\n",
    "    op1 = tf.add(x, y)\n",
    "    op2 = tf.multiply(x, y)\n",
    "    op3 = tf.pow(op2, op1)\n",
    "print(graph.get_operations()) # Return the list of operations in the graph.\n",
    "print(graph.version) #Returns a version number that increases as ops are added to the graph."
   ]
  },
  {
   "cell_type": "code",
   "execution_count": 7,
   "metadata": {
    "collapsed": false
   },
   "outputs": [
    {
     "name": "stdout",
     "output_type": "stream",
     "text": [
      "7776\n"
     ]
    }
   ],
   "source": [
    "# run the graph\n",
    "with tf.Session(graph = graph) as sess:\n",
    "    op3 = sess.run(op3)\n",
    "    print(op3) # 6^5 = 7776"
   ]
  },
  {
   "cell_type": "markdown",
   "metadata": {},
   "source": [
    "#### running a subgraph example"
   ]
  },
  {
   "cell_type": "code",
   "execution_count": 8,
   "metadata": {
    "collapsed": false
   },
   "outputs": [
    {
     "name": "stdout",
     "output_type": "stream",
     "text": [
      "[<tf.Operation 'Const' type=Const>, <tf.Operation 'Const_1' type=Const>, <tf.Operation 'Add' type=Add>, <tf.Operation 'Mul' type=Mul>, <tf.Operation 'Mul_1' type=Mul>, <tf.Operation 'Pow' type=Pow>]\n",
      "6\n"
     ]
    }
   ],
   "source": [
    "graph = tf.Graph()\n",
    "with graph.as_default():\n",
    "    x = tf.constant(2)\n",
    "    y = tf.constant(3)\n",
    "    op1 = tf.add(x, y)\n",
    "    op2 = tf.multiply(x, y)\n",
    "    useless = tf.multiply(x, op1) # this multipy operation wolud not be run in case 1\n",
    "    op3 = tf.pow(op2, op1)\n",
    "print(graph.get_operations())\n",
    "print(graph.version)"
   ]
  },
  {
   "cell_type": "code",
   "execution_count": 9,
   "metadata": {
    "collapsed": false
   },
   "outputs": [
    {
     "name": "stdout",
     "output_type": "stream",
     "text": [
      "7776\n"
     ]
    }
   ],
   "source": [
    "# case 1\n",
    "with tf.Session(graph = graph) as sess:\n",
    "    op3 = sess.run(op3)\n",
    "    print(op3)\n",
    "    #print(useless)"
   ]
  },
  {
   "cell_type": "code",
   "execution_count": 10,
   "metadata": {
    "collapsed": false
   },
   "outputs": [
    {
     "name": "stdout",
     "output_type": "stream",
     "text": [
      "[<tf.Operation 'Const' type=Const>, <tf.Operation 'Const_1' type=Const>, <tf.Operation 'Add' type=Add>, <tf.Operation 'Mul' type=Mul>, <tf.Operation 'Mul_1' type=Mul>, <tf.Operation 'Pow' type=Pow>]\n",
      "6\n"
     ]
    }
   ],
   "source": [
    "graph = tf.Graph()\n",
    "with graph.as_default():\n",
    "    x = tf.constant(2)\n",
    "    y = tf.constant(3)\n",
    "    op1 = tf.add(x, y)\n",
    "    op2 = tf.multiply(x, y)\n",
    "    useless = tf.multiply(x, op1) # run this operation\n",
    "    op3 = tf.pow(op2, op1)\n",
    "print(graph.get_operations())\n",
    "print(graph.version)"
   ]
  },
  {
   "cell_type": "code",
   "execution_count": 11,
   "metadata": {
    "collapsed": false
   },
   "outputs": [
    {
     "name": "stdout",
     "output_type": "stream",
     "text": [
      "7776\n",
      "10\n"
     ]
    }
   ],
   "source": [
    "# case 2\n",
    "with tf.Session(graph = graph) as sess:\n",
    "    op3, not_useless = sess.run([op3, useless])\n",
    "    print(op3)\n",
    "    print(not_useless)"
   ]
  },
  {
   "cell_type": "markdown",
   "metadata": {},
   "source": [
    "## Distributed comptation"
   ]
  },
  {
   "cell_type": "code",
   "execution_count": 12,
   "metadata": {
    "collapsed": false
   },
   "outputs": [
    {
     "name": "stdout",
     "output_type": "stream",
     "text": [
      "[<tf.Operation 'a' type=Const>, <tf.Operation 'b' type=Const>, <tf.Operation 'MatMul' type=MatMul>]\n",
      "3\n"
     ]
    }
   ],
   "source": [
    "with tf.device('/gpu:2'):\n",
    "    graph = tf.Graph()\n",
    "    with graph.as_default():\n",
    "        a = tf.constant(np.array([[1.0, 2.0, 3.0, 4.0, 5.0, 6.0]]), name='a')\n",
    "        b = tf.constant(np.array([[1.0], \n",
    "                                  [2.0], \n",
    "                                  [3.0], \n",
    "                                  [4.0], \n",
    "                                  [5.0], \n",
    "                                  [6.0]]), name='b')\n",
    "        c = tf.matmul(a, b)\n",
    "    print(graph.get_operations())\n",
    "    print(graph.version)"
   ]
  },
  {
   "cell_type": "code",
   "execution_count": 13,
   "metadata": {
    "collapsed": false
   },
   "outputs": [
    {
     "name": "stdout",
     "output_type": "stream",
     "text": [
      "[[ 91.]]\n"
     ]
    }
   ],
   "source": [
    "with tf.Session(graph=graph, config=tf.ConfigProto(log_device_placement=True)) as sess:\n",
    "    c = sess.run(c)\n",
    "    print(c)"
   ]
  },
  {
   "cell_type": "code",
   "execution_count": 22,
   "metadata": {
    "collapsed": false
   },
   "outputs": [
    {
     "name": "stdout",
     "output_type": "stream",
     "text": [
      "[<tf.Operation 'a' type=Const>, <tf.Operation 'b' type=Const>, <tf.Operation 'MatMul' type=MatMul>]\n",
      "3\n"
     ]
    }
   ],
   "source": [
    "with tf.device('/gpu:2'):\n",
    "    graph = tf.Graph()\n",
    "    with graph.as_default():\n",
    "        a = tf.constant([1.0, 2.0, 3.0, 4.0, 5.0, 6.0], name='a', shape=[2, 3])\n",
    "        b = tf.constant([1.0, 2.0, 3.0, 4.0, 5.0, 6.0], name='b', shape=[3, 2])\n",
    "        c = tf.matmul(a, b)\n",
    "    print(graph.get_operations())\n",
    "    print(graph.version)"
   ]
  },
  {
   "cell_type": "code",
   "execution_count": 23,
   "metadata": {
    "collapsed": false
   },
   "outputs": [
    {
     "name": "stdout",
     "output_type": "stream",
     "text": [
      "[[ 22.  28.]\n",
      " [ 49.  64.]]\n"
     ]
    }
   ],
   "source": [
    "with tf.Session(graph=graph, config=tf.ConfigProto(log_device_placement=True)) as sess:\n",
    "    c = sess.run(c)\n",
    "    print(c)"
   ]
  },
  {
   "cell_type": "code",
   "execution_count": 24,
   "metadata": {
    "collapsed": false
   },
   "outputs": [
    {
     "name": "stdout",
     "output_type": "stream",
     "text": [
      "[[  44.   56.]\n",
      " [  98.  128.]]\n"
     ]
    }
   ],
   "source": [
    "c = []\n",
    "for d in ['/gpu:2', '/gpu:3']:\n",
    "  with tf.device(d):\n",
    "    a = tf.constant([1.0, 2.0, 3.0, 4.0, 5.0, 6.0], shape=[2, 3])\n",
    "    b = tf.constant([1.0, 2.0, 3.0, 4.0, 5.0, 6.0], shape=[3, 2])\n",
    "    c.append(tf.matmul(a, b))\n",
    "with tf.device('/cpu:0'):\n",
    "  sum = tf.add_n(c)\n",
    "# Creates a session with log_device_placement set to True.\n",
    "sess = tf.Session(config=tf.ConfigProto(log_device_placement=True))\n",
    "# Runs the op.\n",
    "print sess.run(sum)"
   ]
  },
  {
   "cell_type": "markdown",
   "metadata": {},
   "source": [
    "## More about graph"
   ]
  },
  {
   "cell_type": "code",
   "execution_count": 14,
   "metadata": {
    "collapsed": false
   },
   "outputs": [
    {
     "name": "stdout",
     "output_type": "stream",
     "text": [
      "[<tf.Operation 'Const' type=Const>, <tf.Operation 'Const_1' type=Const>, <tf.Operation 'Add' type=Add>]\n",
      "3\n",
      "8\n"
     ]
    }
   ],
   "source": [
    "g = tf.Graph()\n",
    "with g.as_default():\n",
    "    a = tf.constant(3)\n",
    "    b = tf.constant(5)\n",
    "    x = tf.add(a, b)\n",
    "print(g.get_operations())\n",
    "print(g.version)\n",
    "\n",
    "with tf.Session(graph = g) as sess:\n",
    "    x = sess.run(x)\n",
    "    print(x)"
   ]
  },
  {
   "cell_type": "code",
   "execution_count": 15,
   "metadata": {
    "collapsed": false
   },
   "outputs": [
    {
     "name": "stdout",
     "output_type": "stream",
     "text": [
      "Tensor(\"Const:0\", shape=(), dtype=int32)\n",
      "[<tf.Operation 'Const' type=Const>]\n",
      "1\n"
     ]
    }
   ],
   "source": [
    "# Do not mix default graph and user created graphs\n",
    "g = tf.Graph()\n",
    "a = tf.constant(3) # this op will be placed into default graph\n",
    "print(a)\n",
    "with g.as_default():\n",
    "    b = tf.constant(5)\n",
    "print(g.get_operations())\n",
    "print(g.version)\n",
    "# we only get one operation in g"
   ]
  },
  {
   "cell_type": "code",
   "execution_count": 16,
   "metadata": {
    "collapsed": false
   },
   "outputs": [
    {
     "name": "stdout",
     "output_type": "stream",
     "text": [
      "[]\n",
      "0\n",
      "[]\n",
      "0\n"
     ]
    }
   ],
   "source": [
    "g1 = tf.Graph()\n",
    "print(g1.get_operations())\n",
    "print(g1.version)\n",
    "g2 = tf.Graph()\n",
    "print(g2.get_operations())\n",
    "print(g2.version)"
   ]
  },
  {
   "cell_type": "code",
   "execution_count": 17,
   "metadata": {
    "collapsed": false
   },
   "outputs": [
    {
     "name": "stdout",
     "output_type": "stream",
     "text": [
      "[<tf.Operation 'Const' type=Const>]\n",
      "1\n",
      "[<tf.Operation 'Const' type=Const>]\n",
      "1\n"
     ]
    }
   ],
   "source": [
    "with g1.as_default():\n",
    "    a = tf.constant(3)\n",
    "with g2.as_default():\n",
    "    b = tf.constant(5)\n",
    "print(g1.get_operations())\n",
    "print(g1.version)\n",
    "print(g2.get_operations())\n",
    "print(g2.version)"
   ]
  },
  {
   "cell_type": "markdown",
   "metadata": {},
   "source": [
    "# Part 2"
   ]
  },
  {
   "cell_type": "markdown",
   "metadata": {},
   "source": [
    "## Defining a computation graph"
   ]
  },
  {
   "cell_type": "code",
   "execution_count": 18,
   "metadata": {
    "collapsed": false
   },
   "outputs": [
    {
     "name": "stdout",
     "output_type": "stream",
     "text": [
      "[<tf.Operation 'foo/initial_value' type=Const>, <tf.Operation 'foo' type=VariableV2>, <tf.Operation 'foo/Assign' type=Assign>, <tf.Operation 'foo/read' type=Identity>, <tf.Operation 'init' type=NoOp>, <tf.Operation 'Assign/value' type=Const>, <tf.Operation 'Assign' type=Assign>]\n",
      "7\n"
     ]
    }
   ],
   "source": [
    "graph = tf.Graph()\n",
    "with graph.as_default():\n",
    "    variable = tf.Variable(42, name='foo')\n",
    "    initialize = tf.global_variables_initializer()\n",
    "    assign = variable.assign(13)\n",
    "print(graph.get_operations())\n",
    "print(graph.version)"
   ]
  },
  {
   "cell_type": "markdown",
   "metadata": {},
   "source": [
    "### print them out to get some intution"
   ]
  },
  {
   "cell_type": "code",
   "execution_count": 19,
   "metadata": {
    "collapsed": false
   },
   "outputs": [
    {
     "name": "stdout",
     "output_type": "stream",
     "text": [
      "<tensorflow.python.framework.ops.Graph object at 0x7fbc543384d0>\n",
      "\n",
      "Tensor(\"foo/read:0\", shape=(), dtype=int32)\n",
      "\n",
      "name: \"init\"\n",
      "op: \"NoOp\"\n",
      "input: \"^foo/Assign\"\n",
      "\n",
      "\n",
      "Tensor(\"Assign:0\", shape=(), dtype=int32_ref)\n"
     ]
    }
   ],
   "source": [
    "print(graph)\n",
    "print \n",
    "print(variable)\n",
    "print\n",
    "print(initialize)\n",
    "print\n",
    "print(assign)"
   ]
  },
  {
   "cell_type": "markdown",
   "metadata": {},
   "source": [
    "## Running defined graph in a Session"
   ]
  },
  {
   "cell_type": "code",
   "execution_count": 20,
   "metadata": {
    "collapsed": false
   },
   "outputs": [
    {
     "name": "stdout",
     "output_type": "stream",
     "text": [
      "13\n"
     ]
    }
   ],
   "source": [
    "with tf.Session(graph = graph) as sess:\n",
    "    sess.run(initialize)\n",
    "    sess.run(assign)\n",
    "    print(sess.run(variable))"
   ]
  },
  {
   "cell_type": "code",
   "execution_count": null,
   "metadata": {
    "collapsed": false
   },
   "outputs": [],
   "source": [
    "with tf.Session(graph = graph) as sess:\n",
    "    print(sess.run(variable))\n",
    "    \n",
    "# FailedPreconditionError: Attempting to use uninitialized value foo"
   ]
  },
  {
   "cell_type": "code",
   "execution_count": 21,
   "metadata": {
    "collapsed": false
   },
   "outputs": [
    {
     "name": "stdout",
     "output_type": "stream",
     "text": [
      "42\n"
     ]
    }
   ],
   "source": [
    "with tf.Session(graph = graph) as sess:\n",
    "    sess.run(initialize)\n",
    "    print(sess.run(variable))"
   ]
  }
 ],
 "metadata": {
  "kernelspec": {
   "display_name": "Python 2",
   "language": "python",
   "name": "python2"
  },
  "language_info": {
   "codemirror_mode": {
    "name": "ipython",
    "version": 2
   },
   "file_extension": ".py",
   "mimetype": "text/x-python",
   "name": "python",
   "nbconvert_exporter": "python",
   "pygments_lexer": "ipython2",
   "version": "2.7.12"
  }
 },
 "nbformat": 4,
 "nbformat_minor": 2
}
