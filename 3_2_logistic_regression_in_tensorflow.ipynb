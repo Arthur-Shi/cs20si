{
 "cells": [
  {
   "cell_type": "markdown",
   "metadata": {},
   "source": [
    "1. [Understanding Xavier Initialization In Deep Neural Networks](https://prateekvjoshi.com/2016/03/29/understanding-xavier-initialization-in-deep-neural-networks/)\n",
    "2. [Understanding the difficulty of training deep feedforward neural networks](http://jmlr.org/proceedings/papers/v9/glorot10a/glorot10a.pdf)"
   ]
  },
  {
   "cell_type": "code",
   "execution_count": 1,
   "metadata": {
    "collapsed": false
   },
   "outputs": [],
   "source": [
    "import numpy as np\n",
    "import tensorflow as tf\n",
    "from tensorflow.examples.tutorials.mnist import input_data\n",
    "from wrap_functions import define_scope\n",
    "import functools"
   ]
  },
  {
   "cell_type": "code",
   "execution_count": 2,
   "metadata": {
    "collapsed": false
   },
   "outputs": [],
   "source": [
    "class Model:\n",
    "    def __init__(self, input_data, label, input_dim=784, output_dim=10, learning_rate=0.01):\n",
    "        # config\n",
    "        self.input_dim = input_dim\n",
    "        self.output_dim = output_dim\n",
    "        self.learning_rate = learning_rate\n",
    "        \n",
    "        # ops\n",
    "        self.input_data = input_data\n",
    "        self.label = label\n",
    "        self.prediction\n",
    "        self.optimize\n",
    "        self.error\n",
    "        \n",
    "    @define_scope\n",
    "    def prediction(self):\n",
    "        xvaier_stddev = tf.sqrt(1.0 / tf.cast(self.input_dim + self.output_dim, dtype=tf.float32))\n",
    "        w = tf.Variable(tf.random_normal(shape=[self.input_dim, self.output_dim],\n",
    "                                         stddev=xvaier_stddev), name='weights')\n",
    "        b = tf.Variable(tf.zeros(shape=[self.output_dim], name='bias'))\n",
    "        logits = tf.matmul(self.input_data, w) + b\n",
    "        preds = tf.nn.softmax(logits)\n",
    "        return preds # preds will be set as an attribute named _cache_prediction\n",
    "                        \n",
    "    @define_scope\n",
    "    def optimize(self):\n",
    "        logprob = tf.log(self.prediction + 1e-12)\n",
    "        cross_entropy = -tf.reduce_sum(self.label * logprob)\n",
    "        optimizer = tf.train.RMSPropOptimizer(self.learning_rate)\n",
    "        return optimizer.minimize(cross_entropy)\n",
    "    \n",
    "    @define_scope\n",
    "    def error(self):\n",
    "        mistakes = tf.not_equal(\n",
    "            tf.argmax(self.label, 1), tf.argmax(self.prediction, 1))\n",
    "        return tf.reduce_mean(tf.cast(mistakes, tf.float32))"
   ]
  },
  {
   "cell_type": "code",
   "execution_count": 3,
   "metadata": {
    "collapsed": false
   },
   "outputs": [
    {
     "name": "stdout",
     "output_type": "stream",
     "text": [
      "Extracting ./data/mnist/train-images-idx3-ubyte.gz\n",
      "Extracting ./data/mnist/train-labels-idx1-ubyte.gz\n",
      "Extracting ./data/mnist/t10k-images-idx3-ubyte.gz\n",
      "Extracting ./data/mnist/t10k-labels-idx1-ubyte.gz\n"
     ]
    }
   ],
   "source": [
    "mnist = input_data.read_data_sets(\"./data/mnist\", one_hot=True)"
   ]
  },
  {
   "cell_type": "code",
   "execution_count": 4,
   "metadata": {
    "collapsed": true
   },
   "outputs": [],
   "source": [
    "lr = 0.01\n",
    "batch_size = 128\n",
    "n_epochs = 25\n",
    "n_batches = int(mnist.train.num_examples/batch_size)"
   ]
  },
  {
   "cell_type": "code",
   "execution_count": 5,
   "metadata": {
    "collapsed": false
   },
   "outputs": [
    {
     "name": "stdout",
     "output_type": "stream",
     "text": [
      "Epoch 0 : Test error  90.85%\n",
      "Epoch 1 : Test error  12.90%\n",
      "Epoch 2 : Test error   9.80%\n",
      "Epoch 3 : Test error   8.85%\n",
      "Epoch 4 : Test error   9.23%\n",
      "Epoch 5 : Test error   8.88%\n",
      "Epoch 6 : Test error   8.28%\n",
      "Epoch 7 : Test error   8.09%\n",
      "Epoch 8 : Test error   8.88%\n",
      "Epoch 9 : Test error   8.44%\n",
      "Epoch 10 : Test error   8.37%\n",
      "Epoch 11 : Test error   8.12%\n",
      "Epoch 12 : Test error   8.11%\n",
      "Epoch 13 : Test error   8.89%\n",
      "Epoch 14 : Test error   9.02%\n",
      "Epoch 15 : Test error   8.20%\n",
      "Epoch 16 : Test error   8.58%\n",
      "Epoch 17 : Test error   8.03%\n",
      "Epoch 18 : Test error   7.99%\n",
      "Epoch 19 : Test error   7.50%\n",
      "Epoch 20 : Test error   7.86%\n",
      "Epoch 21 : Test error   7.83%\n",
      "Epoch 22 : Test error   8.40%\n",
      "Epoch 23 : Test error   7.81%\n",
      "Epoch 24 : Test error   7.64%\n"
     ]
    }
   ],
   "source": [
    "def main():\n",
    "    g = tf.Graph()\n",
    "    with g.as_default():\n",
    "        image = tf.placeholder(tf.float32, [None, 784])\n",
    "        label = tf.placeholder(tf.float32, [None, 10])\n",
    "        model = Model(image, label)\n",
    "\n",
    "    config = tf.ConfigProto()\n",
    "    config.gpu_options.allow_growth = True\n",
    "\n",
    "    with tf.Session(graph=g, config=config) as sess:\n",
    "        sess.run(tf.global_variables_initializer())\n",
    "\n",
    "        for i in range(n_epochs):\n",
    "          images, labels = mnist.test.images, mnist.test.labels\n",
    "          error = sess.run(model.error, {image: images, label: labels})\n",
    "          print('Epoch {} : Test error {:6.2f}%'.format(i, 100 * error))\n",
    "          for _ in range(60):\n",
    "            images, labels = mnist.train.next_batch(batch_size)\n",
    "            sess.run(model.optimize, {image: images, label: labels})\n",
    "\n",
    "        writer = tf.summary.FileWriter('./my_graph/03/logstic_reg', sess.graph)\n",
    "        writer.close()\n",
    "        \n",
    "if __name__ == '__main__':\n",
    "  main()"
   ]
  }
 ],
 "metadata": {
  "kernelspec": {
   "display_name": "Python 2",
   "language": "python",
   "name": "python2"
  },
  "language_info": {
   "codemirror_mode": {
    "name": "ipython",
    "version": 2
   },
   "file_extension": ".py",
   "mimetype": "text/x-python",
   "name": "python",
   "nbconvert_exporter": "python",
   "pygments_lexer": "ipython2",
   "version": "2.7.12"
  }
 },
 "nbformat": 4,
 "nbformat_minor": 2
}
