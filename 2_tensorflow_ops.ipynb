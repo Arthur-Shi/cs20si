{
 "cells": [
  {
   "cell_type": "markdown",
   "metadata": {},
   "source": [
    "# Lecture 2: tensorflow ops\n",
    "\n",
    "**Useful links:** \n",
    "1. [Lecture note](http://web.stanford.edu/class/cs20si/lectures/notes_02.pdf);\n",
    "2. [Leture slides](http://web.stanford.edu/class/cs20si/lectures/slides_02.pdf);"
   ]
  },
  {
   "cell_type": "markdown",
   "metadata": {},
   "source": [
    "# Part 1"
   ]
  },
  {
   "cell_type": "markdown",
   "metadata": {},
   "source": [
    "## Fun with TensorBoard\n",
    "TensorFlow = TensorFlow + TensorBoard + TensorServing\n",
    "\n",
    "TensorBoard is graph visualzation software included with any standard TensorFlow installation.\n",
    "\n",
    "When a user perform certain operations in a TensorBoard-activated TensorFlow program, these operations are exported to an event file. TensorBoard is able to convert these event files to graphs that give insight into a model's behavior."
   ]
  },
  {
   "cell_type": "code",
   "execution_count": 1,
   "metadata": {
    "collapsed": true
   },
   "outputs": [],
   "source": [
    "import tensorflow as tf\n",
    "import numpy as np"
   ]
  },
  {
   "cell_type": "code",
   "execution_count": 2,
   "metadata": {
    "collapsed": false
   },
   "outputs": [],
   "source": [
    "g = tf.Graph()\n",
    "with g.as_default():\n",
    "    a = tf.constant(2)\n",
    "    b = tf.constant(3)\n",
    "    x = tf.add(a, b)"
   ]
  },
  {
   "cell_type": "code",
   "execution_count": 3,
   "metadata": {
    "collapsed": false
   },
   "outputs": [
    {
     "name": "stdout",
     "output_type": "stream",
     "text": [
      "5\n"
     ]
    }
   ],
   "source": [
    "with tf.Session(graph=g) as sess:\n",
    "    x = sess.run(x)\n",
    "    print(x)"
   ]
  },
  {
   "cell_type": "code",
   "execution_count": 4,
   "metadata": {
    "collapsed": false
   },
   "outputs": [
    {
     "name": "stdout",
     "output_type": "stream",
     "text": [
      "<tensorflow.python.client.session.Session object at 0x7f783d045710>\n"
     ]
    }
   ],
   "source": [
    "print(sess)\n",
    "writer = tf.summary.FileWriter('./graphs_test1', sess.graph)"
   ]
  },
  {
   "cell_type": "code",
   "execution_count": 5,
   "metadata": {
    "collapsed": true
   },
   "outputs": [],
   "source": [
    "g = tf.Graph()\n",
    "with g.as_default():\n",
    "    a = tf.constant(2)\n",
    "    b = tf.constant(3)\n",
    "    x = tf.add(a, b)"
   ]
  },
  {
   "cell_type": "code",
   "execution_count": 6,
   "metadata": {
    "collapsed": false
   },
   "outputs": [
    {
     "name": "stdout",
     "output_type": "stream",
     "text": [
      "5\n"
     ]
    }
   ],
   "source": [
    "with tf.Session(graph=g) as sess:\n",
    "    writer = tf.summary.FileWriter('./graphs_test2', sess.graph)\n",
    "    x = sess.run(x)\n",
    "    print(x)\n",
    "writer.close()"
   ]
  },
  {
   "cell_type": "markdown",
   "metadata": {},
   "source": [
    "### Display logs by tensorboard"
   ]
  },
  {
   "cell_type": "code",
   "execution_count": 7,
   "metadata": {
    "collapsed": true
   },
   "outputs": [],
   "source": [
    "# $ tensorboard --logdir=\"./graphs_test1\"\n",
    "# $ tensorboard --logdir=\"./graphs_test2\" -port 6007 # to avoid port is in use"
   ]
  },
  {
   "cell_type": "markdown",
   "metadata": {},
   "source": [
    "Standford note suggest we to add the summary line right before the running loop, however,\n",
    "I try to summary afer session being closed. Both of them get the same log......I didn't get the purpose of this suggestion yet."
   ]
  },
  {
   "cell_type": "markdown",
   "metadata": {},
   "source": [
    "### Name the ops"
   ]
  },
  {
   "cell_type": "code",
   "execution_count": 8,
   "metadata": {
    "collapsed": true
   },
   "outputs": [],
   "source": [
    "g = tf.Graph()\n",
    "with g.as_default():\n",
    "    a = tf.constant([2, 2], name='a')\n",
    "    b = tf.constant([3, 6], name='b')\n",
    "    x = tf.add(a, b, name='add')"
   ]
  },
  {
   "cell_type": "code",
   "execution_count": 9,
   "metadata": {
    "collapsed": false
   },
   "outputs": [
    {
     "name": "stdout",
     "output_type": "stream",
     "text": [
      "[5 8]\n"
     ]
    }
   ],
   "source": [
    "# tf.Session.run(fetches, feed_dict=None, options=None, run_metadata=None)\n",
    "with tf.Session(graph=g) as sess:\n",
    "    writer = tf.summary.FileWriter('./graphs', sess.graph)\n",
    "    x = sess.run(x)\n",
    "    print(x)\n",
    "writer.close()\n",
    "# display your log again to see the name you had explicitly assigned."
   ]
  },
  {
   "cell_type": "markdown",
   "metadata": {},
   "source": [
    "### Note:\n",
    "If you've run your code several times, there will be muliple event files, TF will show only the lastest graph and display the warning of multiple event files. To get rid of the warning, delete all the event files you no longer need."
   ]
  },
  {
   "cell_type": "markdown",
   "metadata": {},
   "source": [
    "## Constant types"
   ]
  },
  {
   "cell_type": "markdown",
   "metadata": {},
   "source": [
    "tf.convert_to_tensor(value, dtype=None, name=None, preferred_dtype=None)\n",
    "\n",
    "All standard Python op constructors apply this function to each of their Tensor-valued inputs, which allows those ops to accept numpy arrays, Python lists, and scalars in addition to Tensor objects.\n",
    "https://www.tensorflow.org/api_docs/python/tf/\n",
    "https://www.tensorflow.org/api_docs/python/tf/convert_to_tensor"
   ]
  },
  {
   "cell_type": "code",
   "execution_count": 10,
   "metadata": {
    "collapsed": false
   },
   "outputs": [
    {
     "name": "stdout",
     "output_type": "stream",
     "text": [
      "Tensor(\"vector:0\", shape=(2,), dtype=int32)\n",
      "Tensor(\"b:0\", shape=(2, 2), dtype=int32)\n"
     ]
    }
   ],
   "source": [
    "# tf.constant(value, dtype=None, shape=None, name='Const', verify_shape=False)\n",
    "# constant of 1d tensor (vector)\n",
    "a = tf.constant([2, 2], name='vector')\n",
    "print(a)\n",
    "\n",
    "# constant of 2*2 tensor (matrix)\n",
    "b = tf.constant([[0, 1], [2, 3]], name='b')\n",
    "print(b)"
   ]
  },
  {
   "cell_type": "markdown",
   "metadata": {},
   "source": [
    "### You can creat tensors whose elements are of a specific value\n",
    "Note the similarity to numpy.zeros, numpy.zeros_like, numpy.ones, numpy.ones_like"
   ]
  },
  {
   "cell_type": "code",
   "execution_count": 11,
   "metadata": {
    "collapsed": false
   },
   "outputs": [
    {
     "name": "stdout",
     "output_type": "stream",
     "text": [
      "Tensor(\"zeros:0\", shape=(2, 3), dtype=int32)\n",
      "[[0 0 0]\n",
      " [0 0 0]]\n"
     ]
    }
   ],
   "source": [
    "# tf.zeros(shape, dtype=tf.float32, name=Nome)\n",
    "# shape: Either a list of integers, or a 1-D Tensor of type int32\n",
    "# create a tensor of shape and all elements are zeros\n",
    "a = tf.zeros([2, 3], tf.int32)\n",
    "print(a)\n",
    "with tf.Session() as sess:\n",
    "    a = sess.run(a)\n",
    "    print(a)"
   ]
  },
  {
   "cell_type": "code",
   "execution_count": 12,
   "metadata": {
    "collapsed": false
   },
   "outputs": [
    {
     "name": "stdout",
     "output_type": "stream",
     "text": [
      "Tensor(\"zeros_like:0\", shape=(3, 2), dtype=int32)\n",
      "[[0 0]\n",
      " [0 0]\n",
      " [0 0]]\n"
     ]
    }
   ],
   "source": [
    "# tf.zeros_like(tensor, dtype=None, name=None, optimize=True)\n",
    "# Creates a tensor of shape and type(unless type is specified) as the input_tensor but\n",
    "# all elements are zeros\n",
    "a = tf.constant([[0, 1],\n",
    "                 [2, 3],\n",
    "                 [4, 5]])\n",
    "b = tf.zeros_like(a)\n",
    "print(b)\n",
    "with tf.Session() as sess:\n",
    "    b = sess.run(b)\n",
    "    print(b)"
   ]
  },
  {
   "cell_type": "code",
   "execution_count": 13,
   "metadata": {
    "collapsed": false
   },
   "outputs": [
    {
     "name": "stdout",
     "output_type": "stream",
     "text": [
      "Tensor(\"ones:0\", shape=(2, 3), dtype=int32)\n",
      "[[1 1 1]\n",
      " [1 1 1]]\n"
     ]
    }
   ],
   "source": [
    "# tf.ones(shape, dtype=tf.float32, name=None)\n",
    "# create a tensor of shape and all elements are ones\n",
    "a = tf.ones([2, 3], tf.int32)\n",
    "print(a)\n",
    "with tf.Session() as sess:\n",
    "    a = sess.run(a)\n",
    "    print(a)"
   ]
  },
  {
   "cell_type": "code",
   "execution_count": 14,
   "metadata": {
    "collapsed": false
   },
   "outputs": [
    {
     "name": "stdout",
     "output_type": "stream",
     "text": [
      "Tensor(\"ones_like:0\", shape=(3, 2), dtype=int32)\n",
      "[[1 1]\n",
      " [1 1]\n",
      " [1 1]]\n"
     ]
    }
   ],
   "source": [
    "# tf.ones_like(tensor, dtype=None, name=None, optimize=True)\n",
    "# create a tensor of shape and type (unless type is specified) as the input_tensor but all\n",
    "# elements are ones\n",
    "a = tf.constant([[0, 1],\n",
    "                 [2, 3],\n",
    "                 [4, 5]])\n",
    "b = tf.ones_like(a)\n",
    "print(b)\n",
    "with tf.Session() as sess:\n",
    "    b = sess.run(b)\n",
    "    print(b)"
   ]
  },
  {
   "cell_type": "code",
   "execution_count": 15,
   "metadata": {
    "collapsed": false
   },
   "outputs": [
    {
     "name": "stdout",
     "output_type": "stream",
     "text": [
      "Tensor(\"Fill:0\", shape=(2, 3), dtype=int32)\n",
      "[[8 8 8]\n",
      " [8 8 8]]\n"
     ]
    }
   ],
   "source": [
    "# tf.fill(dims, value, name=None)\n",
    "# create a tensor filled with a scalar value\n",
    "a = tf.fill([2, 3], 8)\n",
    "print(a)\n",
    "with tf.Session() as sess:\n",
    "    a = sess.run(a)\n",
    "    print(a)"
   ]
  },
  {
   "cell_type": "markdown",
   "metadata": {},
   "source": [
    "### You can create constants that are sequences"
   ]
  },
  {
   "cell_type": "code",
   "execution_count": 16,
   "metadata": {
    "collapsed": false
   },
   "outputs": [
    {
     "name": "stdout",
     "output_type": "stream",
     "text": [
      "Tensor(\"linspace:0\", shape=(4,), dtype=float32)\n",
      "[ 10.  11.  12.  13.]\n"
     ]
    }
   ],
   "source": [
    "# tf.linspace(start, stop, num, name=None)\n",
    "# create a sequence of num evenly-spaced values are generated beginning at start. If num>1\n",
    "# the values in the sequence increase by stop - start / num -1, so that the last one is\n",
    "# exactly stop\n",
    "# start, stop, num must be scalars\n",
    "# start, stop Must be one of the following types: float32, float64, num: int32, int64\n",
    "# comparable to but sligtly different from numpy.linspace\n",
    "# numpy.linspace(start, stop, num=50, endpoint=True, retstep=False, dtype=None)\n",
    "\n",
    "a = tf.linspace(10.0, 13.0, 4, name='linspace')\n",
    "print(a)\n",
    "with tf.Session() as sess:\n",
    "    a = sess.run(a)\n",
    "    print(a)"
   ]
  },
  {
   "cell_type": "code",
   "execution_count": 17,
   "metadata": {
    "collapsed": false
   },
   "outputs": [
    {
     "name": "stdout",
     "output_type": "stream",
     "text": [
      "Tensor(\"range:0\", shape=(5,), dtype=int32)\n",
      "[ 3  6  9 12 15]\n"
     ]
    }
   ],
   "source": [
    "# tf.range(start, limit=None, delta=1, dtype=None, name='range')\n",
    "# Creates a sequence of numbers that begins at start and extends by increments of delta\n",
    "# up to but not including limit\n",
    "# Like the Python builtin range, start defaults to 0, so that range(n) = range(0, n)\n",
    "a = tf.range(3, 18, 3)\n",
    "print(a)\n",
    "with tf.Session() as sess:\n",
    "    a = sess.run(a)\n",
    "    print(a)"
   ]
  },
  {
   "cell_type": "code",
   "execution_count": 18,
   "metadata": {
    "collapsed": false
   },
   "outputs": [
    {
     "name": "stdout",
     "output_type": "stream",
     "text": [
      "Tensor(\"range_1:0\", shape=(4,), dtype=float32)\n",
      "[ 3.   2.5  2.   1.5]\n"
     ]
    }
   ],
   "source": [
    "# a = tf.range(3, 1, -0.5) maybe for dtype reason this line may raise error\n",
    "a = tf.range(3.0, 1.0, -0.5)\n",
    "print(a)\n",
    "with tf.Session() as sess:\n",
    "    a = sess.run(a)\n",
    "    print(a)"
   ]
  },
  {
   "cell_type": "code",
   "execution_count": 19,
   "metadata": {
    "collapsed": false
   },
   "outputs": [
    {
     "name": "stdout",
     "output_type": "stream",
     "text": [
      "Tensor(\"range_2:0\", shape=(5,), dtype=int32)\n",
      "[0 1 2 3 4]\n"
     ]
    }
   ],
   "source": [
    "a = tf.range(5)\n",
    "print(a)\n",
    "with tf.Session() as sess:\n",
    "    a = sess.run(a)\n",
    "    print(a)"
   ]
  },
  {
   "cell_type": "markdown",
   "metadata": {},
   "source": [
    "#### Note that unlike NumPy or Python sequences, TensorFlow sequences are not iterable"
   ]
  },
  {
   "cell_type": "code",
   "execution_count": 20,
   "metadata": {
    "collapsed": false
   },
   "outputs": [
    {
     "name": "stdout",
     "output_type": "stream",
     "text": [
      "0.0\n",
      "3.33333333333\n",
      "6.66666666667\n",
      "10.0\n"
     ]
    }
   ],
   "source": [
    "for i in np.linspace(0, 10, 4):\n",
    "    print(i)"
   ]
  },
  {
   "cell_type": "code",
   "execution_count": null,
   "metadata": {
    "collapsed": false
   },
   "outputs": [],
   "source": [
    "# tf.linspace(0, 10, 4)\n",
    "# TypeError: Value passed to parameter 'start' has DataType int32 not in list of allowed \n",
    "# values: float32, float64\n",
    "for i in tf.linspace(0.0, 10.0, 4):\n",
    "    print(i)\n",
    "# TypeError: 'Tensor' object is not iterable"
   ]
  },
  {
   "cell_type": "code",
   "execution_count": 22,
   "metadata": {
    "collapsed": false
   },
   "outputs": [
    {
     "name": "stdout",
     "output_type": "stream",
     "text": [
      "0\n",
      "1\n",
      "2\n",
      "3\n"
     ]
    }
   ],
   "source": [
    "for i in range(4):\n",
    "    print(i)"
   ]
  },
  {
   "cell_type": "code",
   "execution_count": null,
   "metadata": {
    "collapsed": false
   },
   "outputs": [],
   "source": [
    "for i in tf.range(4):\n",
    "    print(i)\n",
    "# TypeError: 'Tensor' object is not iterable."
   ]
  },
  {
   "cell_type": "markdown",
   "metadata": {},
   "source": [
    "### You can also generate random constants from certain distributions"
   ]
  },
  {
   "cell_type": "code",
   "execution_count": null,
   "metadata": {
    "collapsed": true
   },
   "outputs": [],
   "source": [
    "# tf.random_normal(shape, mean=0.0, stddev=1.0, dtype=tf.float32, seed=None, name=None)\n",
    "# tf.truncated_normal(shape, mean=0.0, stddev=1.0, dtype=tf.float32, seed=None, name=None)\n",
    "# tf.random_uniform(shape, minval=0, maxval=None, dtype=tf.float32, seed=None, name=None)\n",
    "# tf.random_shuffle(value, seed=None, name=None)\n",
    "# tf.random_crop(value, size, seed=None, name=None)\n",
    "# tf.multinomial(logits, num_samples, seed=None, name=None)\n",
    "# tf.random_gamma(shape, alpha, beta=None, dtype=tf.float32, seed=None, name=None)\n",
    "# tf.set_random_seed(seed) # Operations that rely on a random seed actually derive \n",
    "#it from two seeds: the graph-level and operation-level seeds. This sets the \n",
    "# graph-level seed."
   ]
  },
  {
   "cell_type": "markdown",
   "metadata": {},
   "source": [
    "https://www.tensorflow.org/api_docs/python/tf/set_random_seed"
   ]
  },
  {
   "cell_type": "code",
   "execution_count": 23,
   "metadata": {
    "collapsed": false
   },
   "outputs": [
    {
     "name": "stdout",
     "output_type": "stream",
     "text": [
      "Session 1\n",
      "a1\n",
      "[[ 3.10000658  7.7726078   4.36233521]\n",
      " [ 4.33057308  0.70752025  5.44950485]]\n",
      "a2\n",
      "[[ 4.27698374  2.59973884  8.42744923]\n",
      " [ 2.16902852  1.45320177  5.87610722]]\n",
      "b1\n",
      "[[-0.20380068  1.02053642  0.83243173]\n",
      " [ 0.12789387 -3.15761328  6.83167458]]\n",
      "b2\n",
      "[[-3.93487716  5.25653267  2.17159677]\n",
      " [ 0.12227363  8.25422764 -7.55906105]]\n",
      "Session 2\n",
      "a1\n",
      "[[ 3.10000658  7.7726078   4.36233521]\n",
      " [ 4.33057308  0.70752025  5.44950485]]\n",
      "a2\n",
      "[[ 4.27698374  2.59973884  8.42744923]\n",
      " [ 2.16902852  1.45320177  5.87610722]]\n",
      "b1\n",
      "[[-0.20380068  1.02053642  0.83243173]\n",
      " [ 0.12789387 -3.15761328  6.83167458]]\n",
      "b2\n",
      "[[-3.93487716  5.25653267  2.17159677]\n",
      " [ 0.12227363  8.25422764 -7.55906105]]\n"
     ]
    }
   ],
   "source": [
    "g = tf.Graph()\n",
    "with g.as_default():\n",
    "    tf.set_random_seed(123)\n",
    "    a = tf.random_uniform([2, 3], minval=0.0, maxval=10.0)\n",
    "    b = tf.random_normal([2, 3], mean=0.0, stddev=4.0)\n",
    "\n",
    "print(\"Session 1\")\n",
    "with tf.Session(graph=g) as sess1:\n",
    "    print('a1')\n",
    "    print(sess1.run(a))\n",
    "    print('a2')\n",
    "    print(sess1.run(a))\n",
    "    print('b1')\n",
    "    print(sess1.run(b))\n",
    "    print('b2')\n",
    "    print(sess1.run(b))\n",
    "\n",
    "print(\"Session 2\")\n",
    "with tf.Session(graph=g) as sess2:\n",
    "    print('a1')\n",
    "    print(sess2.run(a))\n",
    "    print('a2')\n",
    "    print(sess2.run(a))\n",
    "    print('b1')\n",
    "    print(sess2.run(b))\n",
    "    print('b2')\n",
    "    print(sess2.run(b))"
   ]
  },
  {
   "cell_type": "code",
   "execution_count": 24,
   "metadata": {
    "collapsed": false
   },
   "outputs": [
    {
     "name": "stdout",
     "output_type": "stream",
     "text": [
      "[[ 6.77753503  5.03207802  5.6798031 ]\n",
      " [ 3.92553631  2.4071212   9.85233095]]\n",
      "[[ 1.28136131 -0.3047094  -0.75538523]\n",
      " [-1.5691671  -1.22085975  0.65354131]]\n",
      "[[ 6.77753503  5.03207802  5.6798031 ]\n",
      " [ 3.92553631  2.4071212   9.85233095]]\n",
      "[[ 1.28136131 -0.3047094  -0.75538523]\n",
      " [-1.5691671  -1.22085975  0.65354131]]\n"
     ]
    }
   ],
   "source": [
    "a = tf.constant(np.random.uniform(low=0.0, high=10.0, size=(2, 3)))\n",
    "b = tf.constant(np.random.normal(loc=0.0, scale=1.0, size=(2,3)))\n",
    "with tf.Session() as sess:\n",
    "    a1, b1 = sess.run([a, b])\n",
    "    a2, b2 = sess.run([a, b])\n",
    "    print(a1)\n",
    "    print(b1)\n",
    "    print(a2)\n",
    "    print(b2)"
   ]
  },
  {
   "cell_type": "markdown",
   "metadata": {},
   "source": [
    "### Math Operations\n",
    "https://www.tensorflow.org/api_guides/python/math_ops"
   ]
  },
  {
   "cell_type": "code",
   "execution_count": 25,
   "metadata": {
    "collapsed": false
   },
   "outputs": [
    {
     "name": "stdout",
     "output_type": "stream",
     "text": [
      "[5 8]\n",
      "[ 7 10]\n",
      "[ 6 12]\n",
      "[[18]]\n",
      "[1 3]\n",
      "[1 0]\n"
     ]
    }
   ],
   "source": [
    "a = tf.constant([3, 6])\n",
    "b = tf.constant([2, 2])\n",
    "c_0 = tf.add(a, b)\n",
    "c_1 = tf.add_n([a, b, b])\n",
    "c_2 = tf.multiply(a, b) # element wise\n",
    "c_3 = tf.matmul(tf.reshape(a, [1, 2]), tf.reshape(b, [2, 1]))\n",
    "c_4 = tf.div(a, b)\n",
    "c_5 = tf.mod(a, b)\n",
    "with tf.Session() as sess:\n",
    "    c_0, c_1, c_2, c_3, c_4, c_5 = sess.run([c_0, c_1, c_2, c_3, c_4, c_5])\n",
    "    print(c_0)\n",
    "    print(c_1)\n",
    "    print(c_2)\n",
    "    print(c_3)\n",
    "    print(c_4)\n",
    "    print(c_5)"
   ]
  },
  {
   "cell_type": "markdown",
   "metadata": {},
   "source": [
    "### Data Types"
   ]
  },
  {
   "cell_type": "code",
   "execution_count": 26,
   "metadata": {
    "collapsed": false
   },
   "outputs": [
    {
     "name": "stdout",
     "output_type": "stream",
     "text": [
      "0\n",
      "1\n",
      "['' '' '']\n",
      "[[False False False]\n",
      " [False False False]\n",
      " [False False False]]\n",
      "[[ True  True  True]\n",
      " [ True  True  True]\n",
      " [ True  True  True]]\n"
     ]
    }
   ],
   "source": [
    "a_0 = 19\n",
    "a_1 = tf.zeros_like(a_0)\n",
    "a_2 = tf.ones_like(a_0)\n",
    "b_0 = [b\"apple\", b\"peach\", b\"grape\"]\n",
    "b_1 = tf.zeros_like(b_0)\n",
    "#b_2 = tf.ones_like(b_0) # TypeError: Expected string, got 1 of type 'int' instead\n",
    "\n",
    "c_0 = [[True, False, False],\n",
    "       [False, False, True],\n",
    "       [False, True, False]] # treated as a 2-d tensor, or \"matrix\"\n",
    "c_1 = tf.zeros_like(c_0)\n",
    "c_2 = tf.ones_like(c_0)\n",
    "with tf.Session() as sess:\n",
    "    a_1, a_2, b_1, c_1, c_2 = sess.run([a_1, a_2, b_1, c_1, c_2])\n",
    "    print(a_1)\n",
    "    print(a_2)\n",
    "    print(b_1)\n",
    "    #print(b_2)\n",
    "    print(c_1)\n",
    "    print(c_2)"
   ]
  },
  {
   "cell_type": "markdown",
   "metadata": {},
   "source": [
    "### Variables\n",
    "Constants have been fun, but I think now you guys are old enough to how about variables.\n",
    "The difference between a constant and variable:\n",
    "1. A constant is constant. A variable can be assigned to, its value can be changed.\n",
    "2. A constant's value is stored in the graph and its value is replicated wherever the graph is loads. A variable is stored separately, and may live on a parameter server."
   ]
  },
  {
   "cell_type": "code",
   "execution_count": 27,
   "metadata": {
    "collapsed": false
   },
   "outputs": [
    {
     "name": "stdout",
     "output_type": "stream",
     "text": [
      "node {\n",
      "  name: \"my_const\"\n",
      "  op: \"Const\"\n",
      "  attr {\n",
      "    key: \"dtype\"\n",
      "    value {\n",
      "      type: DT_FLOAT\n",
      "    }\n",
      "  }\n",
      "  attr {\n",
      "    key: \"value\"\n",
      "    value {\n",
      "      tensor {\n",
      "        dtype: DT_FLOAT\n",
      "        tensor_shape {\n",
      "          dim {\n",
      "            size: 2\n",
      "          }\n",
      "        }\n",
      "        tensor_content: \"\\000\\000\\200?\\000\\000\\000@\"\n",
      "      }\n",
      "    }\n",
      "  }\n",
      "}\n",
      "versions {\n",
      "  producer: 21\n",
      "}\n",
      "\n"
     ]
    }
   ],
   "source": [
    "g = tf.Graph()\n",
    "with g.as_default():\n",
    "    my_const = tf.constant([1.0, 2.0], name='my_const')\n",
    "    print(tf.get_default_graph().as_graph_def())"
   ]
  },
  {
   "cell_type": "markdown",
   "metadata": {},
   "source": [
    "#### Declare variables"
   ]
  },
  {
   "cell_type": "code",
   "execution_count": 28,
   "metadata": {
    "collapsed": false
   },
   "outputs": [
    {
     "name": "stdout",
     "output_type": "stream",
     "text": [
      "Tensor(\"scalar/read:0\", shape=(), dtype=int32)\n",
      "Tensor(\"vector_1/read:0\", shape=(2,), dtype=int32)\n",
      "Tensor(\"matrix/read:0\", shape=(2, 2), dtype=int32)\n",
      "Tensor(\"Variable/read:0\", shape=(784, 10), dtype=float32)\n"
     ]
    }
   ],
   "source": [
    "# create variable a with scalar value\n",
    "a = tf.Variable(2, name='scalar')\n",
    "print(a)\n",
    "# create variable b as a vector\n",
    "b = tf.Variable([2, 3], name='vector')\n",
    "print(b)\n",
    "# create variable c as a 2*2 matrix\n",
    "c = tf.Variable([[0, 1], [2, 3]], name='matrix')\n",
    "print(c)\n",
    "# create variable W as 784*10 tensor, filled with zeros\n",
    "W = tf.Variable(tf.zeros([784, 10]))\n",
    "print(W)"
   ]
  },
  {
   "cell_type": "code",
   "execution_count": 29,
   "metadata": {
    "collapsed": false
   },
   "outputs": [
    {
     "name": "stdout",
     "output_type": "stream",
     "text": [
      "[<tf.Operation 'scalar/initial_value' type=Const>, <tf.Operation 'scalar' type=VariableV2>, <tf.Operation 'scalar/Assign' type=Assign>, <tf.Operation 'scalar/read' type=Identity>]\n",
      "4\n",
      "5\n"
     ]
    }
   ],
   "source": [
    "g = tf.Graph()\n",
    "with g.as_default():\n",
    "    x = tf.Variable(2, name='scalar')\n",
    "print(g.get_operations())\n",
    "print(g.version)\n",
    "\n",
    "with tf.Session(graph=g) as sess:\n",
    "    sess.run(x.initializer)\n",
    "    print(sess.run(x.assign_add(3)))"
   ]
  },
  {
   "cell_type": "code",
   "execution_count": 30,
   "metadata": {
    "collapsed": false
   },
   "outputs": [],
   "source": [
    "# You have to initialize variables before using them\n",
    "init = tf.global_variables_initializer()\n",
    "\n",
    "with tf.Session() as sess:\n",
    "    sess.run(init)"
   ]
  },
  {
   "cell_type": "code",
   "execution_count": 31,
   "metadata": {
    "collapsed": false
   },
   "outputs": [],
   "source": [
    "init_ab = tf.variables_initializer([a, b], name='init_ab')\n",
    "with tf.Session() as sess:\n",
    "    sess.run(init_ab)"
   ]
  },
  {
   "cell_type": "code",
   "execution_count": 32,
   "metadata": {
    "collapsed": false
   },
   "outputs": [],
   "source": [
    "# create variable W as 784*10 tensor, filled with zeros\n",
    "W = tf.Variable(tf.zeros([784, 10]))\n",
    "with tf.Session() as sess:\n",
    "    sess.run(W.initializer)\n",
    "# another way to initialize a variable is to restore it from a save file"
   ]
  },
  {
   "cell_type": "markdown",
   "metadata": {},
   "source": [
    "#### Evaluate values of variables"
   ]
  },
  {
   "cell_type": "code",
   "execution_count": 33,
   "metadata": {
    "collapsed": false
   },
   "outputs": [
    {
     "name": "stdout",
     "output_type": "stream",
     "text": [
      "Tensor(\"Variable_2/read:0\", shape=(700, 10), dtype=float32)\n"
     ]
    }
   ],
   "source": [
    "# W is a random 700*100 variable object\n",
    "W = tf.Variable(tf.truncated_normal([700, 10]))\n",
    "with tf.Session() as sess:\n",
    "    sess.run(W.initializer)\n",
    "    print(W)"
   ]
  },
  {
   "cell_type": "code",
   "execution_count": 34,
   "metadata": {
    "collapsed": false
   },
   "outputs": [
    {
     "name": "stdout",
     "output_type": "stream",
     "text": [
      "[[-0.87107468  0.26141784  1.52498627 ...,  0.90238583  0.79691088\n",
      "  -0.06048778]\n",
      " [ 0.68131208 -0.42437628 -0.04228624 ..., -1.3219763   0.42711928\n",
      "  -1.3788898 ]\n",
      " [-1.32859874 -0.52924287  0.03264492 ...,  0.25225312 -0.655994\n",
      "  -1.28667557]\n",
      " ..., \n",
      " [ 0.68829215  1.28704309  0.66447854 ...,  1.02221203 -0.43233114\n",
      "   1.59204376]\n",
      " [ 1.27488673 -1.16340578  0.05163746 ..., -1.20619512  0.31666392\n",
      "   1.4724524 ]\n",
      " [-0.47545099 -1.50535309 -1.44748247 ...,  0.2528604  -1.66840899\n",
      "   0.74078834]]\n"
     ]
    }
   ],
   "source": [
    "# to get the value of a variable, we need to evaluate it using eval()\n",
    "W = tf.Variable(tf.truncated_normal([700, 10]))\n",
    "with tf.Session() as sess:\n",
    "    sess.run(W.initializer)\n",
    "    print(W.eval())"
   ]
  },
  {
   "cell_type": "markdown",
   "metadata": {},
   "source": [
    "#### Assign values to variables\n",
    "we can assign a value to a variable using tf.Variable.assign()"
   ]
  },
  {
   "cell_type": "code",
   "execution_count": 35,
   "metadata": {
    "collapsed": false
   },
   "outputs": [
    {
     "name": "stdout",
     "output_type": "stream",
     "text": [
      "10\n"
     ]
    }
   ],
   "source": [
    "W = tf.Variable(10)\n",
    "W.assign(100)\n",
    "with tf.Session() as sess:\n",
    "    sess.run(W.initializer)\n",
    "    print(W.eval())"
   ]
  },
  {
   "cell_type": "code",
   "execution_count": 36,
   "metadata": {
    "collapsed": false
   },
   "outputs": [
    {
     "name": "stdout",
     "output_type": "stream",
     "text": [
      "100\n"
     ]
    }
   ],
   "source": [
    "W = tf.Variable(10)\n",
    "assign_op = W.assign(100)\n",
    "with tf.Session() as sess:\n",
    "    sess.run(assign_op)\n",
    "    print(W.eval())\n",
    "# Note that we don't have initialize W in this case, because assign() does it for us.\n",
    "# In fact, initializer op is the assign op that assigns the variable's initial value\n",
    "# to the variable itself.\n",
    "# in the source code\n",
    "# self._initializer_op = state_ops.assign(self._variable, self._initial_value,\n",
    "#                                        validate_shape=validate_shape).op"
   ]
  },
  {
   "cell_type": "code",
   "execution_count": 37,
   "metadata": {
    "collapsed": false
   },
   "outputs": [
    {
     "name": "stdout",
     "output_type": "stream",
     "text": [
      "4\n",
      "8\n",
      "16\n"
     ]
    }
   ],
   "source": [
    "# Intersting example\n",
    "# create a variable whose original value is 2\n",
    "a = tf.Variable(2, name='scalar')\n",
    "# assign a*2 to a and call that op a_times_two\n",
    "a_times_two = a.assign(a * 2)\n",
    "\n",
    "init = tf.global_variables_initializer()\n",
    "\n",
    "with tf.Session() as sess:\n",
    "    sess.run(init)\n",
    "    # have to initialize a, because a_times_two op depends on the value of a\n",
    "    print(sess.run(a_times_two)) # >> 4\n",
    "    print(sess.run(a_times_two)) # >> 8\n",
    "    print(sess.run(a_times_two)) # >> 16"
   ]
  },
  {
   "cell_type": "code",
   "execution_count": 38,
   "metadata": {
    "collapsed": false
   },
   "outputs": [
    {
     "name": "stdout",
     "output_type": "stream",
     "text": [
      "20\n",
      "18\n"
     ]
    }
   ],
   "source": [
    "W = tf.Variable(10)\n",
    "\n",
    "with tf.Session() as sess:\n",
    "    sess.run(W.initializer)\n",
    "    print(sess.run(W.assign_add(10)))\n",
    "    print(sess.run(W.assign_sub(2)))"
   ]
  },
  {
   "cell_type": "code",
   "execution_count": 39,
   "metadata": {
    "collapsed": false
   },
   "outputs": [
    {
     "name": "stdout",
     "output_type": "stream",
     "text": [
      "20\n",
      "8\n",
      "120\n",
      "-42\n"
     ]
    }
   ],
   "source": [
    "W = tf.Variable(10)\n",
    "\n",
    "sess1 = tf.Session()\n",
    "sess2 = tf.Session()\n",
    "\n",
    "sess1.run(W.initializer)\n",
    "sess2.run(W.initializer)\n",
    "\n",
    "print(sess1.run(W.assign_add(10)))\n",
    "print(sess2.run(W.assign_sub(2)))\n",
    "\n",
    "print(sess1.run(W.assign_add(100)))\n",
    "print(sess2.run(W.assign_sub(50)))\n",
    "\n",
    "sess1.close()\n",
    "sess2.close()"
   ]
  },
  {
   "cell_type": "code",
   "execution_count": 40,
   "metadata": {
    "collapsed": false
   },
   "outputs": [
    {
     "name": "stdout",
     "output_type": "stream",
     "text": [
      "[[ 0.15774222  1.6848619   0.75867641 ...,  0.70471513  0.45140892\n",
      "   1.1388737 ]\n",
      " [-1.90446675  0.40704605 -0.52457744 ...,  1.38665187  0.0540167\n",
      "  -0.13397592]\n",
      " [-1.99462855  0.87634164  0.38599205 ..., -0.44720611 -1.18347108\n",
      "  -1.10491443]\n",
      " ..., \n",
      " [ 0.05733988 -0.88313168  1.40067708 ...,  0.46848473  0.86937541\n",
      "   1.65061593]\n",
      " [ 0.09700993 -0.68789995  1.15506804 ..., -0.14402924  0.50634795\n",
      "  -0.30204296]\n",
      " [ 0.13493772  1.31803548 -1.11376512 ..., -0.86277169  0.96434861\n",
      "   0.03455852]]\n",
      "[[ 0.31548443  3.3697238   1.51735282 ...,  1.40943027  0.90281785\n",
      "   2.27774739]\n",
      " [-3.8089335   0.8140921  -1.04915488 ...,  2.77330375  0.1080334\n",
      "  -0.26795185]\n",
      " [-3.9892571   1.75268328  0.7719841  ..., -0.89441222 -2.36694217\n",
      "  -2.20982885]\n",
      " ..., \n",
      " [ 0.11467977 -1.76626337  2.80135417 ...,  0.93696946  1.73875082\n",
      "   3.30123186]\n",
      " [ 0.19401987 -1.37579989  2.31013608 ..., -0.28805849  1.01269591\n",
      "  -0.60408592]\n",
      " [ 0.26987544  2.63607097 -2.22753024 ..., -1.72554338  1.92869723\n",
      "   0.06911704]]\n"
     ]
    }
   ],
   "source": [
    "# W is a random 700*100 tensor\n",
    "W = tf.Variable(tf.truncated_normal([700, 10]))\n",
    "U = tf.Variable(W * 2)\n",
    "init = tf.global_variables_initializer()\n",
    "\n",
    "with tf.Session() as sess:\n",
    "    sess.run(W.initializer)\n",
    "    sess.run(U.initializer)\n",
    "    print(W.eval())\n",
    "    print(U.eval())\n",
    "# In this case, you should use initialized_value() to make sure that W is initialized\n",
    "# before its value is used to initialize W"
   ]
  },
  {
   "cell_type": "markdown",
   "metadata": {},
   "source": [
    "### InteractiveSession\n",
    "You sometimes see InteractiveSession instead of Session. The only difference is an\n",
    "InteractiveSession makes itself the default session so you can call run() or eval()\n",
    "without explicitly call the session. This is convenient in interactive shells and IPyhon notebooks, as it avoids having to pass an explicit Session object to run ops. However, it is complicated when you have multiple sessions to run.\n",
    "\n",
    "tf.get_default_session() returns the default session for the current thread. The returned Session will be the innermost session on which a Session or Session.as_default() context has been entered."
   ]
  },
  {
   "cell_type": "code",
   "execution_count": 41,
   "metadata": {
    "collapsed": false
   },
   "outputs": [
    {
     "name": "stdout",
     "output_type": "stream",
     "text": [
      "30.0\n"
     ]
    }
   ],
   "source": [
    "sess = tf.InteractiveSession()\n",
    "a = tf.constant(5.0)\n",
    "b = tf.constant(6.0)\n",
    "c = a * b\n",
    "# we can just use 'c.eval()' without passing 'sess'\n",
    "print(c.eval())\n",
    "sess.close()"
   ]
  },
  {
   "cell_type": "markdown",
   "metadata": {},
   "source": [
    "### Control Dependencies"
   ]
  },
  {
   "cell_type": "code",
   "execution_count": null,
   "metadata": {
    "collapsed": true
   },
   "outputs": [],
   "source": [
    "# # your graph g have 5 ops: a, b, c, d, e\n",
    "# with g.control_dependencies([a, b, c]):\n",
    "#     # 'd' and 'e' will only run after 'a', 'b', and 'c' have executed\n",
    "#     d = ...\n",
    "#     e = ..."
   ]
  },
  {
   "cell_type": "markdown",
   "metadata": {},
   "source": [
    "### Placeholders and feed_dict\n",
    "https://www.tensorflow.org/api_docs/python/tf/placeholder"
   ]
  },
  {
   "cell_type": "code",
   "execution_count": null,
   "metadata": {
    "collapsed": false
   },
   "outputs": [],
   "source": [
    "# to define a placeholder, we use:\n",
    "# tf.placeholder(dtype, shape=None, Name=None)\n",
    "\n",
    "# create a placeholder of type float 32-bit, shape is a vector of 3 elements\n",
    "a = tf.placeholder(tf.float32, shape=[3])\n",
    "\n",
    "# create a constant of type float 32-bit, shape is a vector of 3 elements\n",
    "b = tf.constant([5, 5, 5], tf.float32)\n",
    "\n",
    "# use the placeholder as you would a constant or variable\n",
    "c = a + b # short for tf.add(a, b)\n",
    "\n",
    "# If we try to fetch c, we will run into error.\n",
    "\n",
    "with tf.Session() as sess:\n",
    "    print(sess.run(c))\n",
    "# InvalidArgumentError (see above for traceback): You must feed a value for placeh\n",
    "# older tensor 'Placeholder' with dtype float and shape [3]"
   ]
  },
  {
   "cell_type": "code",
   "execution_count": 46,
   "metadata": {
    "collapsed": false
   },
   "outputs": [
    {
     "name": "stdout",
     "output_type": "stream",
     "text": [
      "[ 6.  7.  8.]\n"
     ]
    }
   ],
   "source": [
    "# to define a placeholder, we use:\n",
    "# tf.placeholder(dtype, shape=None, Name=None)\n",
    "g = tf.Graph()\n",
    "with g.as_default():\n",
    "    # create a placeholder of type float 32-bit, shape is a vector of 3 elements\n",
    "    a = tf.placeholder(tf.float32, shape=[3])\n",
    "\n",
    "    # create a constant of type float 32-bit, shape is a vector of 3 elements\n",
    "    b = tf.constant([5, 5, 5], tf.float32)\n",
    "\n",
    "    # use the placeholder as you would a constant or variable\n",
    "    c = a + b # short for tf.add(a, b)\n",
    "\n",
    "# If we try to fetch c, we will run into error.\n",
    "\n",
    "with tf.Session(graph=g) as sess:\n",
    "    writer = tf.summary.FileWriter('./my_graph', sess.graph)\n",
    "    print(sess.run(c, feed_dict={a:[1, 2, 3]}))"
   ]
  },
  {
   "cell_type": "code",
   "execution_count": 48,
   "metadata": {
    "collapsed": false
   },
   "outputs": [
    {
     "name": "stdout",
     "output_type": "stream",
     "text": [
      "45\n"
     ]
    }
   ],
   "source": [
    "# we can feed as any data points to placeholder as we want by iterating through the data\n",
    "# set and feed in the value one at a time.\n",
    "# you can feed values to tensors that aren't placeholders. Any tensors that feedable can\n",
    "# be fed. To check if a tensor is feedable or not, use:\n",
    "# tf.Graph.is_feedable(tensor)\n",
    "\n",
    "# create Operations, Tensors, etc(using the default graph)\n",
    "a = tf.add(2, 5)\n",
    "b = tf.multiply(a, 3)\n",
    "\n",
    "with tf.Session() as sess:\n",
    "    replace_dict = {a: 15}\n",
    "    print(sess.run(b, feed_dict=replace_dict))\n",
    "# feed_dict can be extremely useful to test your model. When you have a large graph and \n",
    "# just want to test out certain parts, you can provide dummy values so TensorFlow won't\n",
    "# waste time doing unnecessary computaions"
   ]
  },
  {
   "cell_type": "markdown",
   "metadata": {},
   "source": [
    "### The trap of lazy loading"
   ]
  },
  {
   "cell_type": "markdown",
   "metadata": {},
   "source": [
    "TensorFlow, it means you defer creating an op until you need to compute it. For example,\n",
    "this is normal loading: you create the op z when you assemble the graph."
   ]
  },
  {
   "cell_type": "code",
   "execution_count": 56,
   "metadata": {
    "collapsed": false,
    "scrolled": false
   },
   "outputs": [
    {
     "name": "stdout",
     "output_type": "stream",
     "text": [
      "10\n",
      "node {\n",
      "  name: \"x/initial_value\"\n",
      "  op: \"Const\"\n",
      "  attr {\n",
      "    key: \"dtype\"\n",
      "    value {\n",
      "      type: DT_INT32\n",
      "    }\n",
      "  }\n",
      "  attr {\n",
      "    key: \"value\"\n",
      "    value {\n",
      "      tensor {\n",
      "        dtype: DT_INT32\n",
      "        tensor_shape {\n",
      "        }\n",
      "        int_val: 10\n",
      "      }\n",
      "    }\n",
      "  }\n",
      "}\n",
      "node {\n",
      "  name: \"x\"\n",
      "  op: \"VariableV2\"\n",
      "  attr {\n",
      "    key: \"container\"\n",
      "    value {\n",
      "      s: \"\"\n",
      "    }\n",
      "  }\n",
      "  attr {\n",
      "    key: \"dtype\"\n",
      "    value {\n",
      "      type: DT_INT32\n",
      "    }\n",
      "  }\n",
      "  attr {\n",
      "    key: \"shape\"\n",
      "    value {\n",
      "      shape {\n",
      "      }\n",
      "    }\n",
      "  }\n",
      "  attr {\n",
      "    key: \"shared_name\"\n",
      "    value {\n",
      "      s: \"\"\n",
      "    }\n",
      "  }\n",
      "}\n",
      "node {\n",
      "  name: \"x/Assign\"\n",
      "  op: \"Assign\"\n",
      "  input: \"x\"\n",
      "  input: \"x/initial_value\"\n",
      "  attr {\n",
      "    key: \"T\"\n",
      "    value {\n",
      "      type: DT_INT32\n",
      "    }\n",
      "  }\n",
      "  attr {\n",
      "    key: \"_class\"\n",
      "    value {\n",
      "      list {\n",
      "        s: \"loc:@x\"\n",
      "      }\n",
      "    }\n",
      "  }\n",
      "  attr {\n",
      "    key: \"use_locking\"\n",
      "    value {\n",
      "      b: true\n",
      "    }\n",
      "  }\n",
      "  attr {\n",
      "    key: \"validate_shape\"\n",
      "    value {\n",
      "      b: true\n",
      "    }\n",
      "  }\n",
      "}\n",
      "node {\n",
      "  name: \"x/read\"\n",
      "  op: \"Identity\"\n",
      "  input: \"x\"\n",
      "  attr {\n",
      "    key: \"T\"\n",
      "    value {\n",
      "      type: DT_INT32\n",
      "    }\n",
      "  }\n",
      "  attr {\n",
      "    key: \"_class\"\n",
      "    value {\n",
      "      list {\n",
      "        s: \"loc:@x\"\n",
      "      }\n",
      "    }\n",
      "  }\n",
      "}\n",
      "node {\n",
      "  name: \"y/initial_value\"\n",
      "  op: \"Const\"\n",
      "  attr {\n",
      "    key: \"dtype\"\n",
      "    value {\n",
      "      type: DT_INT32\n",
      "    }\n",
      "  }\n",
      "  attr {\n",
      "    key: \"value\"\n",
      "    value {\n",
      "      tensor {\n",
      "        dtype: DT_INT32\n",
      "        tensor_shape {\n",
      "        }\n",
      "        int_val: 20\n",
      "      }\n",
      "    }\n",
      "  }\n",
      "}\n",
      "node {\n",
      "  name: \"y\"\n",
      "  op: \"VariableV2\"\n",
      "  attr {\n",
      "    key: \"container\"\n",
      "    value {\n",
      "      s: \"\"\n",
      "    }\n",
      "  }\n",
      "  attr {\n",
      "    key: \"dtype\"\n",
      "    value {\n",
      "      type: DT_INT32\n",
      "    }\n",
      "  }\n",
      "  attr {\n",
      "    key: \"shape\"\n",
      "    value {\n",
      "      shape {\n",
      "      }\n",
      "    }\n",
      "  }\n",
      "  attr {\n",
      "    key: \"shared_name\"\n",
      "    value {\n",
      "      s: \"\"\n",
      "    }\n",
      "  }\n",
      "}\n",
      "node {\n",
      "  name: \"y/Assign\"\n",
      "  op: \"Assign\"\n",
      "  input: \"y\"\n",
      "  input: \"y/initial_value\"\n",
      "  attr {\n",
      "    key: \"T\"\n",
      "    value {\n",
      "      type: DT_INT32\n",
      "    }\n",
      "  }\n",
      "  attr {\n",
      "    key: \"_class\"\n",
      "    value {\n",
      "      list {\n",
      "        s: \"loc:@y\"\n",
      "      }\n",
      "    }\n",
      "  }\n",
      "  attr {\n",
      "    key: \"use_locking\"\n",
      "    value {\n",
      "      b: true\n",
      "    }\n",
      "  }\n",
      "  attr {\n",
      "    key: \"validate_shape\"\n",
      "    value {\n",
      "      b: true\n",
      "    }\n",
      "  }\n",
      "}\n",
      "node {\n",
      "  name: \"y/read\"\n",
      "  op: \"Identity\"\n",
      "  input: \"y\"\n",
      "  attr {\n",
      "    key: \"T\"\n",
      "    value {\n",
      "      type: DT_INT32\n",
      "    }\n",
      "  }\n",
      "  attr {\n",
      "    key: \"_class\"\n",
      "    value {\n",
      "      list {\n",
      "        s: \"loc:@y\"\n",
      "      }\n",
      "    }\n",
      "  }\n",
      "}\n",
      "node {\n",
      "  name: \"Add\"\n",
      "  op: \"Add\"\n",
      "  input: \"x/read\"\n",
      "  input: \"y/read\"\n",
      "  attr {\n",
      "    key: \"T\"\n",
      "    value {\n",
      "      type: DT_INT32\n",
      "    }\n",
      "  }\n",
      "}\n",
      "node {\n",
      "  name: \"init\"\n",
      "  op: \"NoOp\"\n",
      "  input: \"^x/Assign\"\n",
      "  input: \"^y/Assign\"\n",
      "}\n",
      "versions {\n",
      "  producer: 21\n",
      "}\n",
      "\n"
     ]
    }
   ],
   "source": [
    "g = tf.Graph()\n",
    "with g.as_default():\n",
    "    x = tf.Variable(10, name='x')\n",
    "    y = tf.Variable(20, name='y')\n",
    "    z = tf.add(x, y)\n",
    "\n",
    "with tf.Session(graph=g) as sess:\n",
    "    sess.run(tf.global_variables_initializer())\n",
    "    for _ in range(10):\n",
    "        sess.run(z)\n",
    "    writer = tf.summary.FileWriter('./graph_1', sess.graph)\n",
    "    writer.close()\n",
    "    #print(sess.graph.get_operations())\n",
    "    print(sess.graph.version)\n",
    "    print(sess.graph.as_graph_def())\n",
    "# The protobuf for the graph in normal loading has only 1 node “Add”"
   ]
  },
  {
   "cell_type": "markdown",
   "metadata": {},
   "source": [
    "This is what happens when someone decides to be clever and use lazy loading to save one line of code.\n",
    "On the other hand, the protobuf for the graph in lazy loading has 10 copies of the \n",
    "node “Add”. It adds a new node “Add” every time you want to compute z!"
   ]
  },
  {
   "cell_type": "code",
   "execution_count": 55,
   "metadata": {
    "collapsed": false,
    "scrolled": false
   },
   "outputs": [
    {
     "name": "stdout",
     "output_type": "stream",
     "text": [
      "19\n",
      "node {\n",
      "  name: \"x/initial_value\"\n",
      "  op: \"Const\"\n",
      "  attr {\n",
      "    key: \"dtype\"\n",
      "    value {\n",
      "      type: DT_INT32\n",
      "    }\n",
      "  }\n",
      "  attr {\n",
      "    key: \"value\"\n",
      "    value {\n",
      "      tensor {\n",
      "        dtype: DT_INT32\n",
      "        tensor_shape {\n",
      "        }\n",
      "        int_val: 10\n",
      "      }\n",
      "    }\n",
      "  }\n",
      "}\n",
      "node {\n",
      "  name: \"x\"\n",
      "  op: \"VariableV2\"\n",
      "  attr {\n",
      "    key: \"container\"\n",
      "    value {\n",
      "      s: \"\"\n",
      "    }\n",
      "  }\n",
      "  attr {\n",
      "    key: \"dtype\"\n",
      "    value {\n",
      "      type: DT_INT32\n",
      "    }\n",
      "  }\n",
      "  attr {\n",
      "    key: \"shape\"\n",
      "    value {\n",
      "      shape {\n",
      "      }\n",
      "    }\n",
      "  }\n",
      "  attr {\n",
      "    key: \"shared_name\"\n",
      "    value {\n",
      "      s: \"\"\n",
      "    }\n",
      "  }\n",
      "}\n",
      "node {\n",
      "  name: \"x/Assign\"\n",
      "  op: \"Assign\"\n",
      "  input: \"x\"\n",
      "  input: \"x/initial_value\"\n",
      "  attr {\n",
      "    key: \"T\"\n",
      "    value {\n",
      "      type: DT_INT32\n",
      "    }\n",
      "  }\n",
      "  attr {\n",
      "    key: \"_class\"\n",
      "    value {\n",
      "      list {\n",
      "        s: \"loc:@x\"\n",
      "      }\n",
      "    }\n",
      "  }\n",
      "  attr {\n",
      "    key: \"use_locking\"\n",
      "    value {\n",
      "      b: true\n",
      "    }\n",
      "  }\n",
      "  attr {\n",
      "    key: \"validate_shape\"\n",
      "    value {\n",
      "      b: true\n",
      "    }\n",
      "  }\n",
      "}\n",
      "node {\n",
      "  name: \"x/read\"\n",
      "  op: \"Identity\"\n",
      "  input: \"x\"\n",
      "  attr {\n",
      "    key: \"T\"\n",
      "    value {\n",
      "      type: DT_INT32\n",
      "    }\n",
      "  }\n",
      "  attr {\n",
      "    key: \"_class\"\n",
      "    value {\n",
      "      list {\n",
      "        s: \"loc:@x\"\n",
      "      }\n",
      "    }\n",
      "  }\n",
      "}\n",
      "node {\n",
      "  name: \"y/initial_value\"\n",
      "  op: \"Const\"\n",
      "  attr {\n",
      "    key: \"dtype\"\n",
      "    value {\n",
      "      type: DT_INT32\n",
      "    }\n",
      "  }\n",
      "  attr {\n",
      "    key: \"value\"\n",
      "    value {\n",
      "      tensor {\n",
      "        dtype: DT_INT32\n",
      "        tensor_shape {\n",
      "        }\n",
      "        int_val: 20\n",
      "      }\n",
      "    }\n",
      "  }\n",
      "}\n",
      "node {\n",
      "  name: \"y\"\n",
      "  op: \"VariableV2\"\n",
      "  attr {\n",
      "    key: \"container\"\n",
      "    value {\n",
      "      s: \"\"\n",
      "    }\n",
      "  }\n",
      "  attr {\n",
      "    key: \"dtype\"\n",
      "    value {\n",
      "      type: DT_INT32\n",
      "    }\n",
      "  }\n",
      "  attr {\n",
      "    key: \"shape\"\n",
      "    value {\n",
      "      shape {\n",
      "      }\n",
      "    }\n",
      "  }\n",
      "  attr {\n",
      "    key: \"shared_name\"\n",
      "    value {\n",
      "      s: \"\"\n",
      "    }\n",
      "  }\n",
      "}\n",
      "node {\n",
      "  name: \"y/Assign\"\n",
      "  op: \"Assign\"\n",
      "  input: \"y\"\n",
      "  input: \"y/initial_value\"\n",
      "  attr {\n",
      "    key: \"T\"\n",
      "    value {\n",
      "      type: DT_INT32\n",
      "    }\n",
      "  }\n",
      "  attr {\n",
      "    key: \"_class\"\n",
      "    value {\n",
      "      list {\n",
      "        s: \"loc:@y\"\n",
      "      }\n",
      "    }\n",
      "  }\n",
      "  attr {\n",
      "    key: \"use_locking\"\n",
      "    value {\n",
      "      b: true\n",
      "    }\n",
      "  }\n",
      "  attr {\n",
      "    key: \"validate_shape\"\n",
      "    value {\n",
      "      b: true\n",
      "    }\n",
      "  }\n",
      "}\n",
      "node {\n",
      "  name: \"y/read\"\n",
      "  op: \"Identity\"\n",
      "  input: \"y\"\n",
      "  attr {\n",
      "    key: \"T\"\n",
      "    value {\n",
      "      type: DT_INT32\n",
      "    }\n",
      "  }\n",
      "  attr {\n",
      "    key: \"_class\"\n",
      "    value {\n",
      "      list {\n",
      "        s: \"loc:@y\"\n",
      "      }\n",
      "    }\n",
      "  }\n",
      "}\n",
      "node {\n",
      "  name: \"init\"\n",
      "  op: \"NoOp\"\n",
      "  input: \"^x/Assign\"\n",
      "  input: \"^y/Assign\"\n",
      "}\n",
      "node {\n",
      "  name: \"Add\"\n",
      "  op: \"Add\"\n",
      "  input: \"x/read\"\n",
      "  input: \"y/read\"\n",
      "  attr {\n",
      "    key: \"T\"\n",
      "    value {\n",
      "      type: DT_INT32\n",
      "    }\n",
      "  }\n",
      "}\n",
      "node {\n",
      "  name: \"Add_1\"\n",
      "  op: \"Add\"\n",
      "  input: \"x/read\"\n",
      "  input: \"y/read\"\n",
      "  attr {\n",
      "    key: \"T\"\n",
      "    value {\n",
      "      type: DT_INT32\n",
      "    }\n",
      "  }\n",
      "}\n",
      "node {\n",
      "  name: \"Add_2\"\n",
      "  op: \"Add\"\n",
      "  input: \"x/read\"\n",
      "  input: \"y/read\"\n",
      "  attr {\n",
      "    key: \"T\"\n",
      "    value {\n",
      "      type: DT_INT32\n",
      "    }\n",
      "  }\n",
      "}\n",
      "node {\n",
      "  name: \"Add_3\"\n",
      "  op: \"Add\"\n",
      "  input: \"x/read\"\n",
      "  input: \"y/read\"\n",
      "  attr {\n",
      "    key: \"T\"\n",
      "    value {\n",
      "      type: DT_INT32\n",
      "    }\n",
      "  }\n",
      "}\n",
      "node {\n",
      "  name: \"Add_4\"\n",
      "  op: \"Add\"\n",
      "  input: \"x/read\"\n",
      "  input: \"y/read\"\n",
      "  attr {\n",
      "    key: \"T\"\n",
      "    value {\n",
      "      type: DT_INT32\n",
      "    }\n",
      "  }\n",
      "}\n",
      "node {\n",
      "  name: \"Add_5\"\n",
      "  op: \"Add\"\n",
      "  input: \"x/read\"\n",
      "  input: \"y/read\"\n",
      "  attr {\n",
      "    key: \"T\"\n",
      "    value {\n",
      "      type: DT_INT32\n",
      "    }\n",
      "  }\n",
      "}\n",
      "node {\n",
      "  name: \"Add_6\"\n",
      "  op: \"Add\"\n",
      "  input: \"x/read\"\n",
      "  input: \"y/read\"\n",
      "  attr {\n",
      "    key: \"T\"\n",
      "    value {\n",
      "      type: DT_INT32\n",
      "    }\n",
      "  }\n",
      "}\n",
      "node {\n",
      "  name: \"Add_7\"\n",
      "  op: \"Add\"\n",
      "  input: \"x/read\"\n",
      "  input: \"y/read\"\n",
      "  attr {\n",
      "    key: \"T\"\n",
      "    value {\n",
      "      type: DT_INT32\n",
      "    }\n",
      "  }\n",
      "}\n",
      "node {\n",
      "  name: \"Add_8\"\n",
      "  op: \"Add\"\n",
      "  input: \"x/read\"\n",
      "  input: \"y/read\"\n",
      "  attr {\n",
      "    key: \"T\"\n",
      "    value {\n",
      "      type: DT_INT32\n",
      "    }\n",
      "  }\n",
      "}\n",
      "node {\n",
      "  name: \"Add_9\"\n",
      "  op: \"Add\"\n",
      "  input: \"x/read\"\n",
      "  input: \"y/read\"\n",
      "  attr {\n",
      "    key: \"T\"\n",
      "    value {\n",
      "      type: DT_INT32\n",
      "    }\n",
      "  }\n",
      "}\n",
      "versions {\n",
      "  producer: 21\n",
      "}\n",
      "\n"
     ]
    }
   ],
   "source": [
    "g = tf.Graph()\n",
    "with g.as_default():\n",
    "    x = tf.Variable(10, name='x')\n",
    "    y = tf.Variable(20, name='y')\n",
    "\n",
    "with tf.Session(graph=g) as sess:\n",
    "    sess.run(tf.global_variables_initializer())\n",
    "    for _ in range(10):\n",
    "        sess.run(tf.add(x, y)) # # create the op add only when you need to compute it\n",
    "    writer = tf.summary.FileWriter('./graph_2', sess.graph)\n",
    "    writer.close()\n",
    "    #print(sess.graph.get_operations())\n",
    "    print(sess.graph.version)\n",
    "    print(sess.graph.as_graph_def())"
   ]
  }
 ],
 "metadata": {
  "kernelspec": {
   "display_name": "Python 2",
   "language": "python",
   "name": "python2"
  },
  "language_info": {
   "codemirror_mode": {
    "name": "ipython",
    "version": 2
   },
   "file_extension": ".py",
   "mimetype": "text/x-python",
   "name": "python",
   "nbconvert_exporter": "python",
   "pygments_lexer": "ipython2",
   "version": "2.7.12"
  }
 },
 "nbformat": 4,
 "nbformat_minor": 2
}
